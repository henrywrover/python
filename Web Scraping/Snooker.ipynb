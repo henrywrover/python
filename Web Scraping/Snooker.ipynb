{
 "cells": [
  {
   "cell_type": "code",
   "execution_count": null,
   "metadata": {},
   "outputs": [],
   "source": [
    "from bs4 import BeautifulSoup as bs\n",
    "import urllib.request\n",
    "import pandas as pd\n",
    "import matplotlib.pyplot as plt\n",
    "import numpy as np"
   ]
  },
  {
   "cell_type": "code",
   "execution_count": null,
   "metadata": {},
   "outputs": [],
   "source": [
    "url = \"https://en.wikipedia.org/wiki/Maximum_break\"\n",
    "page = urllib.request.urlopen(url)\n",
    "soup = bs(page)"
   ]
  },
  {
   "cell_type": "code",
   "execution_count": null,
   "metadata": {},
   "outputs": [],
   "source": [
    "table=soup.find('table', class_='wikitable plainrowheaders sortable')"
   ]
  },
  {
   "cell_type": "code",
   "execution_count": null,
   "metadata": {},
   "outputs": [],
   "source": [
    "A=[]\n",
    "B=[]\n",
    "C=[]\n",
    "D=[]\n",
    "E=[]\n",
    "\n",
    "for row in right_table.findAll(\"tr\"):\n",
    "\n",
    "    cells=row.findAll(\"td\")\n",
    "\n",
    "    if len(cells)==6:\n",
    "\n",
    "        A.append(cells[0].find(text=True))\n",
    "\n",
    "        B.append(cells[1].find(text=True))\n",
    "\n",
    "        C.append(cells[2].find(text=True))\n",
    "\n",
    "        D.append(cells[3].find(text=True))\n",
    "\n",
    "        E.append(cells[4].find(text=True))"
   ]
  },
  {
   "cell_type": "code",
   "execution_count": null,
   "metadata": {},
   "outputs": [],
   "source": [
    "df=pd.DataFrame(A,columns=['Date'])\n",
    "df['Player']=B\n",
    "df['Age']=C\n",
    "df['Opponent']=D\n",
    "df['Event']=E"
   ]
  },
  {
   "cell_type": "code",
   "execution_count": null,
   "metadata": {},
   "outputs": [],
   "source": [
    "fig = plt.figure()\n",
    "\n",
    "df[\"Player\"].value_counts().head(10).plot(kind = \"barh\",\n",
    "                                        title = \"Most maximum breaks made in Snooker\")\n",
    "plt.ylabel(\"Player\")\n",
    "plt.xlabel(\"Number of Maximum Breaks\")\n",
    "plt.gca().invert_yaxis()\n",
    "plt.tight_layout()\n",
    "\n",
    "fig.savefig('plot.png', dpi = 300)"
   ]
  }
 ],
 "metadata": {
  "kernelspec": {
   "display_name": "Python 3",
   "language": "python",
   "name": "python3"
  },
  "language_info": {
   "codemirror_mode": {
    "name": "ipython",
    "version": 3
   },
   "file_extension": ".py",
   "mimetype": "text/x-python",
   "name": "python",
   "nbconvert_exporter": "python",
   "pygments_lexer": "ipython3",
   "version": "3.7.6"
  }
 },
 "nbformat": 4,
 "nbformat_minor": 4
}
